{
 "cells": [
  {
   "cell_type": "markdown",
   "metadata": {},
   "source": [
    "# 항공 지연 데이터 예측"
   ]
  },
  {
   "cell_type": "code",
   "execution_count": 1,
   "metadata": {
    "scrolled": false
   },
   "outputs": [
    {
     "name": "stdout",
     "output_type": "stream",
     "text": [
      "package 'dplyr' successfully unpacked and MD5 sums checked\n",
      "\n",
      "The downloaded binary packages are in\n",
      "\tC:\\Users\\slyki\\AppData\\Local\\Temp\\RtmpOyj9mr\\downloaded_packages\n"
     ]
    },
    {
     "name": "stderr",
     "output_type": "stream",
     "text": [
      "Warning message:\n",
      "\"package 'dplyr' was built under R version 3.6.1\"\n",
      "Attaching package: 'dplyr'\n",
      "\n",
      "The following objects are masked from 'package:stats':\n",
      "\n",
      "    filter, lag\n",
      "\n",
      "The following objects are masked from 'package:base':\n",
      "\n",
      "    intersect, setdiff, setequal, union\n",
      "\n"
     ]
    }
   ],
   "source": [
    "install.packages(\"dplyr\")\n",
    "library(dplyr)"
   ]
  },
  {
   "cell_type": "code",
   "execution_count": 2,
   "metadata": {},
   "outputs": [],
   "source": [
    "# 필요 데이터 로드\n",
    "\n",
    "tryCatch(\n",
    "    setwd(\"C:/workspace/R\"),\n",
    "    error = function(e) {\n",
    "        setwd(\"D:/workspace/R\")\n",
    "    }\n",
    ")\n",
    "\n",
    "afsnt <- read.csv(\"Data/AFSNT.csv\", header=T, stringsAsFactors = F)\n",
    "afsnt_dly <- read.csv(\"Data/AFSNT_DLY.csv\", header=T, stringsAsFactors = F)\n",
    "sfsnt <- read.csv(\"Data/sfsnt.csv\", header=T, stringsAsFactors = F)"
   ]
  },
  {
   "cell_type": "markdown",
   "metadata": {},
   "source": [
    "## 1. 데이터 탐색\n",
    "- 빅콘테스트 측에 제공한 항공데이터는 크게 3가지이다.\n",
    "<br>\n",
    "\n",
    "### 1) 운항실적 데이터\n",
    "- 해당 데이터는 각 항공편 별 운항한 기록이 저장되어있으며, 운항일자, 출발지와 목적지, 항공사와 항공편명, 지연여부와 이유, 결항여부와 이유에 대한 자료가 같이 저장된다.\n",
    "- 가장 먼저 확인해볼 자료는 저장된 기간을 확인해보자"
   ]
  },
  {
   "cell_type": "code",
   "execution_count": 3,
   "metadata": {},
   "outputs": [
    {
     "name": "stdout",
     "output_type": "stream",
     "text": [
      "'data.frame':\t987709 obs. of  17 variables:\n",
      " $ SDT_YY: int  2017 2017 2017 2017 2017 2017 2017 2017 2017 2017 ...\n",
      " $ SDT_MM: int  1 1 1 1 1 1 1 1 1 1 ...\n",
      " $ SDT_DD: int  1 1 1 1 1 1 1 1 1 1 ...\n",
      " $ SDT_DY: chr  \"일\" \"일\" \"일\" \"일\" ...\n",
      " $ ARP   : chr  \"ARP3\" \"ARP3\" \"ARP3\" \"ARP3\" ...\n",
      " $ ODP   : chr  \"ARP6\" \"ARP6\" \"ARP6\" \"ARP6\" ...\n",
      " $ FLO   : chr  \"J\" \"J\" \"J\" \"J\" ...\n",
      " $ FLT   : chr  \"J1955\" \"J1954\" \"J1956\" \"J1957\" ...\n",
      " $ REG   : chr  \"SEw3NzE4\" \"SEw3NzE4\" \"SEw3NzE4\" \"SEw3NzE4\" ...\n",
      " $ AOD   : chr  \"D\" \"A\" \"A\" \"D\" ...\n",
      " $ IRR   : chr  \"N\" \"N\" \"N\" \"N\" ...\n",
      " $ STT   : chr  \"10:05\" \"9:30\" \"12:45\" \"13:25\" ...\n",
      " $ ATT   : chr  \"10:32\" \"9:31\" \"13:03\" \"14:09\" ...\n",
      " $ DLY   : chr  \"N\" \"N\" \"N\" \"Y\" ...\n",
      " $ DRR   : chr  \"\" \"\" \"\" \"C02\" ...\n",
      " $ CNL   : chr  \"N\" \"N\" \"N\" \"N\" ...\n",
      " $ CNR   : chr  \"\" \"\" \"\" \"\" ...\n"
     ]
    }
   ],
   "source": [
    "str(afsnt)"
   ]
  },
  {
   "cell_type": "code",
   "execution_count": 4,
   "metadata": {},
   "outputs": [
    {
     "data": {
      "text/html": [
       "<table>\n",
       "<caption>A data.frame: 6 × 4</caption>\n",
       "<thead>\n",
       "\t<tr><th></th><th scope=col>SDT_YY</th><th scope=col>SDT_MM</th><th scope=col>SDT_DD</th><th scope=col>SDT_DY</th></tr>\n",
       "\t<tr><th></th><th scope=col>&lt;int&gt;</th><th scope=col>&lt;int&gt;</th><th scope=col>&lt;int&gt;</th><th scope=col>&lt;chr&gt;</th></tr>\n",
       "</thead>\n",
       "<tbody>\n",
       "\t<tr><th scope=row>1</th><td>2017</td><td>1</td><td>1</td><td>일</td></tr>\n",
       "\t<tr><th scope=row>306</th><td>2017</td><td>1</td><td>2</td><td>월</td></tr>\n",
       "\t<tr><th scope=row>604</th><td>2017</td><td>1</td><td>3</td><td>화</td></tr>\n",
       "\t<tr><th scope=row>896</th><td>2017</td><td>1</td><td>4</td><td>수</td></tr>\n",
       "\t<tr><th scope=row>1192</th><td>2017</td><td>1</td><td>5</td><td>목</td></tr>\n",
       "\t<tr><th scope=row>1492</th><td>2017</td><td>1</td><td>6</td><td>금</td></tr>\n",
       "</tbody>\n",
       "</table>\n"
      ],
      "text/latex": [
       "A data.frame: 6 × 4\n",
       "\\begin{tabular}{r|llll}\n",
       "  & SDT\\_YY & SDT\\_MM & SDT\\_DD & SDT\\_DY\\\\\n",
       "  & <int> & <int> & <int> & <chr>\\\\\n",
       "\\hline\n",
       "\t1 & 2017 & 1 & 1 & 일\\\\\n",
       "\t306 & 2017 & 1 & 2 & 월\\\\\n",
       "\t604 & 2017 & 1 & 3 & 화\\\\\n",
       "\t896 & 2017 & 1 & 4 & 수\\\\\n",
       "\t1192 & 2017 & 1 & 5 & 목\\\\\n",
       "\t1492 & 2017 & 1 & 6 & 금\\\\\n",
       "\\end{tabular}\n"
      ],
      "text/markdown": [
       "\n",
       "A data.frame: 6 × 4\n",
       "\n",
       "| <!--/--> | SDT_YY &lt;int&gt; | SDT_MM &lt;int&gt; | SDT_DD &lt;int&gt; | SDT_DY &lt;chr&gt; |\n",
       "|---|---|---|---|---|\n",
       "| 1 | 2017 | 1 | 1 | 일 |\n",
       "| 306 | 2017 | 1 | 2 | 월 |\n",
       "| 604 | 2017 | 1 | 3 | 화 |\n",
       "| 896 | 2017 | 1 | 4 | 수 |\n",
       "| 1192 | 2017 | 1 | 5 | 목 |\n",
       "| 1492 | 2017 | 1 | 6 | 금 |\n",
       "\n"
      ],
      "text/plain": [
       "     SDT_YY SDT_MM SDT_DD SDT_DY\n",
       "1    2017   1      1      일    \n",
       "306  2017   1      2      월    \n",
       "604  2017   1      3      화    \n",
       "896  2017   1      4      수    \n",
       "1192 2017   1      5      목    \n",
       "1492 2017   1      6      금    "
      ]
     },
     "metadata": {},
     "output_type": "display_data"
    },
    {
     "data": {
      "text/html": [
       "<table>\n",
       "<caption>A data.frame: 6 × 4</caption>\n",
       "<thead>\n",
       "\t<tr><th></th><th scope=col>SDT_YY</th><th scope=col>SDT_MM</th><th scope=col>SDT_DD</th><th scope=col>SDT_DY</th></tr>\n",
       "\t<tr><th></th><th scope=col>&lt;int&gt;</th><th scope=col>&lt;int&gt;</th><th scope=col>&lt;int&gt;</th><th scope=col>&lt;chr&gt;</th></tr>\n",
       "</thead>\n",
       "<tbody>\n",
       "\t<tr><th scope=row>845740</th><td>2019</td><td>6</td><td>25</td><td>화</td></tr>\n",
       "\t<tr><th scope=row>846042</th><td>2019</td><td>6</td><td>26</td><td>수</td></tr>\n",
       "\t<tr><th scope=row>846344</th><td>2019</td><td>6</td><td>27</td><td>목</td></tr>\n",
       "\t<tr><th scope=row>846643</th><td>2019</td><td>6</td><td>28</td><td>금</td></tr>\n",
       "\t<tr><th scope=row>846961</th><td>2019</td><td>6</td><td>29</td><td>토</td></tr>\n",
       "\t<tr><th scope=row>847270</th><td>2019</td><td>6</td><td>30</td><td>일</td></tr>\n",
       "</tbody>\n",
       "</table>\n"
      ],
      "text/latex": [
       "A data.frame: 6 × 4\n",
       "\\begin{tabular}{r|llll}\n",
       "  & SDT\\_YY & SDT\\_MM & SDT\\_DD & SDT\\_DY\\\\\n",
       "  & <int> & <int> & <int> & <chr>\\\\\n",
       "\\hline\n",
       "\t845740 & 2019 & 6 & 25 & 화\\\\\n",
       "\t846042 & 2019 & 6 & 26 & 수\\\\\n",
       "\t846344 & 2019 & 6 & 27 & 목\\\\\n",
       "\t846643 & 2019 & 6 & 28 & 금\\\\\n",
       "\t846961 & 2019 & 6 & 29 & 토\\\\\n",
       "\t847270 & 2019 & 6 & 30 & 일\\\\\n",
       "\\end{tabular}\n"
      ],
      "text/markdown": [
       "\n",
       "A data.frame: 6 × 4\n",
       "\n",
       "| <!--/--> | SDT_YY &lt;int&gt; | SDT_MM &lt;int&gt; | SDT_DD &lt;int&gt; | SDT_DY &lt;chr&gt; |\n",
       "|---|---|---|---|---|\n",
       "| 845740 | 2019 | 6 | 25 | 화 |\n",
       "| 846042 | 2019 | 6 | 26 | 수 |\n",
       "| 846344 | 2019 | 6 | 27 | 목 |\n",
       "| 846643 | 2019 | 6 | 28 | 금 |\n",
       "| 846961 | 2019 | 6 | 29 | 토 |\n",
       "| 847270 | 2019 | 6 | 30 | 일 |\n",
       "\n"
      ],
      "text/plain": [
       "       SDT_YY SDT_MM SDT_DD SDT_DY\n",
       "845740 2019   6      25     화    \n",
       "846042 2019   6      26     수    \n",
       "846344 2019   6      27     목    \n",
       "846643 2019   6      28     금    \n",
       "846961 2019   6      29     토    \n",
       "847270 2019   6      30     일    "
      ]
     },
     "metadata": {},
     "output_type": "display_data"
    }
   ],
   "source": [
    "head(unique(afsnt[,1:4])); tail(unique(afsnt[,1:4]))"
   ]
  },
  {
   "cell_type": "code",
   "execution_count": 5,
   "metadata": {},
   "outputs": [],
   "source": [
    "afsnt$AOD <- factor(afsnt$AOD)"
   ]
  },
  {
   "cell_type": "code",
   "execution_count": 6,
   "metadata": {},
   "outputs": [],
   "source": [
    "afsnt$IRR <- factor(afsnt$IRR)"
   ]
  },
  {
   "cell_type": "code",
   "execution_count": 7,
   "metadata": {},
   "outputs": [],
   "source": [
    "afsnt$DLY <- factor(afsnt$DLY)"
   ]
  },
  {
   "cell_type": "code",
   "execution_count": 8,
   "metadata": {},
   "outputs": [],
   "source": [
    "afsnt$DRR <- factor(afsnt$DRR)"
   ]
  },
  {
   "cell_type": "code",
   "execution_count": 9,
   "metadata": {},
   "outputs": [],
   "source": [
    "afsnt$CNL <- factor(afsnt$CNL)"
   ]
  },
  {
   "cell_type": "code",
   "execution_count": 10,
   "metadata": {},
   "outputs": [],
   "source": [
    "afsnt$CNR <- factor(afsnt$CNR)"
   ]
  },
  {
   "cell_type": "code",
   "execution_count": 11,
   "metadata": {},
   "outputs": [
    {
     "data": {
      "text/plain": [
       "     SDT_YY         SDT_MM           SDT_DD         SDT_DY         \n",
       " Min.   :2017   Min.   : 1.000   Min.   : 1.00   Length:987709     \n",
       " 1st Qu.:2017   1st Qu.: 3.000   1st Qu.: 8.00   Class :character  \n",
       " Median :2018   Median : 6.000   Median :16.00   Mode  :character  \n",
       " Mean   :2018   Mean   : 5.956   Mean   :15.71                     \n",
       " 3rd Qu.:2018   3rd Qu.: 9.000   3rd Qu.:23.00                     \n",
       " Max.   :2019   Max.   :12.000   Max.   :31.00                     \n",
       "                                                                   \n",
       "     ARP                ODP                FLO                FLT           \n",
       " Length:987709      Length:987709      Length:987709      Length:987709     \n",
       " Class :character   Class :character   Class :character   Class :character  \n",
       " Mode  :character   Mode  :character   Mode  :character   Mode  :character  \n",
       "                                                                            \n",
       "                                                                            \n",
       "                                                                            \n",
       "                                                                            \n",
       "     REG            AOD        IRR            STT                ATT           \n",
       " Length:987709      A:493992   N:966084   Length:987709      Length:987709     \n",
       " Class :character   D:493717   Y: 21625   Class :character   Class :character  \n",
       " Mode  :character                         Mode  :character   Mode  :character  \n",
       "                                                                               \n",
       "                                                                               \n",
       "                                                                               \n",
       "                                                                               \n",
       " DLY             DRR         CNL             CNR        \n",
       " N:868772          :868772   N:979450          :979450  \n",
       " Y:118937   C02    :107738   Y:  8259   A04    :  1833  \n",
       "            C01    :  2031              C02    :  1510  \n",
       "            A01    :  1524              A02    :  1392  \n",
       "            C10    :  1227              A05    :  1082  \n",
       "            D01    :   950              A01    :   975  \n",
       "            (Other):  5467              (Other):  1467  "
      ]
     },
     "metadata": {},
     "output_type": "display_data"
    }
   ],
   "source": [
    "summary(afsnt)"
   ]
  },
  {
   "cell_type": "markdown",
   "metadata": {},
   "source": [
    "- 확인 결과 2017.01.01 ~ 2019.06.30의 운행정보가 저장되어있고, 지연여부를 목표변수라고 봤을 때, 위의 데이터는 학습용 데이터로 사용하는 것이 좋을 것으로 보인다."
   ]
  },
  {
   "cell_type": "markdown",
   "metadata": {},
   "source": [
    "### 2) 운항시즌 데이터 \n",
    "- 해당 데이터는 2019년 7월~9월이 포함된 시즌 데이터이다. \n",
    "- 데이터에는 시즌에 대한 정보와 항공편명, 출발지와 도착지, 각 요일별 운행 여부,<br> \n",
    "  시작 일자와 종료 일자의 데이터를 담고 있다."
   ]
  },
  {
   "cell_type": "code",
   "execution_count": 12,
   "metadata": {},
   "outputs": [
    {
     "name": "stdout",
     "output_type": "stream",
     "text": [
      "'data.frame':\t1186 obs. of  17 variables:\n",
      " $ SSC: chr  \"S19\" \"S19\" \"S19\" \"S19\" ...\n",
      " $ FLT: chr  \"A1915\" \"A1904\" \"I1304\" \"B1802\" ...\n",
      " $ ORG: chr  \"ARP1\" \"ARP3\" \"ARP3\" \"ARP2\" ...\n",
      " $ DES: chr  \"ARP3\" \"ARP1\" \"ARP1\" \"ARP1\" ...\n",
      " $ STD: chr  \"7:55\" \"7:55\" \"8:00\" \"8:00\" ...\n",
      " $ STA: chr  \"9:05\" \"9:05\" \"9:15\" \"8:55\" ...\n",
      " $ FLO: chr  \"A\" \"A\" \"I\" \"B\" ...\n",
      " $ MON: chr  \"Y\" \"Y\" \"Y\" \"Y\" ...\n",
      " $ TUE: chr  \"Y\" \"Y\" \"\" \"Y\" ...\n",
      " $ WED: chr  \"Y\" \"Y\" \"Y\" \"Y\" ...\n",
      " $ THU: chr  \"Y\" \"Y\" \"Y\" \"Y\" ...\n",
      " $ FRI: chr  \"Y\" \"Y\" \"Y\" \"Y\" ...\n",
      " $ SAT: chr  \"Y\" \"Y\" \"\" \"Y\" ...\n",
      " $ SUN: chr  \"Y\" \"Y\" \"Y\" \"Y\" ...\n",
      " $ FSD: int  20190331 20190331 20190331 20190331 20190730 20190331 20190902 20190827 20190401 20190729 ...\n",
      " $ FED: int  20191026 20191026 20191026 20191026 20190824 20190728 20191017 20191020 20190722 20190829 ...\n",
      " $ IRR: chr  \"N\" \"N\" \"N\" \"N\" ...\n"
     ]
    }
   ],
   "source": [
    "str(sfsnt)"
   ]
  },
  {
   "cell_type": "code",
   "execution_count": 13,
   "metadata": {},
   "outputs": [
    {
     "data": {
      "text/html": [
       "'S19'"
      ],
      "text/latex": [
       "'S19'"
      ],
      "text/markdown": [
       "'S19'"
      ],
      "text/plain": [
       "[1] \"S19\""
      ]
     },
     "metadata": {},
     "output_type": "display_data"
    }
   ],
   "source": [
    "unique(sfsnt$SSC)"
   ]
  },
  {
   "cell_type": "code",
   "execution_count": 14,
   "metadata": {},
   "outputs": [],
   "source": [
    "sfsnt$MON <- factor(sfsnt$MON);\n",
    "sfsnt$TUE <- factor(sfsnt$TUE);\n",
    "sfsnt$WED <- factor(sfsnt$WED);\n",
    "sfsnt$THU <- factor(sfsnt$THU);\n",
    "sfsnt$FRI <- factor(sfsnt$FRI);\n",
    "sfsnt$SAT <- factor(sfsnt$SAT);\n",
    "sfsnt$SUN <- factor(sfsnt$SUN);\n",
    "sfsnt$IRR <- factor(sfsnt$IRR)"
   ]
  },
  {
   "cell_type": "code",
   "execution_count": 15,
   "metadata": {},
   "outputs": [
    {
     "data": {
      "text/plain": [
       "     SSC                FLT                ORG                DES           \n",
       " Length:1186        Length:1186        Length:1186        Length:1186       \n",
       " Class :character   Class :character   Class :character   Class :character  \n",
       " Mode  :character   Mode  :character   Mode  :character   Mode  :character  \n",
       "                                                                            \n",
       "                                                                            \n",
       "                                                                            \n",
       "     STD                STA                FLO            MON     TUE    \n",
       " Length:1186        Length:1186        Length:1186         :432    :436  \n",
       " Class :character   Class :character   Class :character   Y:754   Y:750  \n",
       " Mode  :character   Mode  :character   Mode  :character                  \n",
       "                                                                         \n",
       "                                                                         \n",
       "                                                                         \n",
       " WED     THU     FRI     SAT     SUN          FSD                FED          \n",
       "  :441    :441    :438    :437    :459   Min.   :20190331   Min.   :20190703  \n",
       " Y:745   Y:745   Y:748   Y:749   Y:727   1st Qu.:20190331   1st Qu.:20191011  \n",
       "                                         Median :20190401   Median :20191026  \n",
       "                                         Mean   :20190491   Mean   :20190966  \n",
       "                                         3rd Qu.:20190702   3rd Qu.:20191026  \n",
       "                                         Max.   :20190924   Max.   :20191027  \n",
       " IRR     \n",
       " N:1173  \n",
       " Y:  13  \n",
       "         \n",
       "         \n",
       "         \n",
       "         "
      ]
     },
     "metadata": {},
     "output_type": "display_data"
    }
   ],
   "source": [
    "summary(sfsnt)"
   ]
  },
  {
   "cell_type": "code",
   "execution_count": 22,
   "metadata": {},
   "outputs": [
    {
     "data": {
      "text/html": [
       "<ol class=list-inline>\n",
       "\t<li>20190331</li>\n",
       "\t<li>20190401</li>\n",
       "\t<li>20190402</li>\n",
       "\t<li>20190403</li>\n",
       "\t<li>20190404</li>\n",
       "\t<li>20190405</li>\n",
       "\t<li>20190406</li>\n",
       "\t<li>20190407</li>\n",
       "\t<li>20190411</li>\n",
       "\t<li>20190415</li>\n",
       "\t<li>20190416</li>\n",
       "\t<li>20190417</li>\n",
       "\t<li>20190418</li>\n",
       "\t<li>20190419</li>\n",
       "\t<li>20190425</li>\n",
       "\t<li>20190427</li>\n",
       "\t<li>20190428</li>\n",
       "\t<li>20190429</li>\n",
       "\t<li>20190430</li>\n",
       "\t<li>20190501</li>\n",
       "\t<li>20190503</li>\n",
       "\t<li>20190504</li>\n",
       "\t<li>20190505</li>\n",
       "\t<li>20190507</li>\n",
       "\t<li>20190509</li>\n",
       "\t<li>20190511</li>\n",
       "\t<li>20190513</li>\n",
       "\t<li>20190514</li>\n",
       "\t<li>20190515</li>\n",
       "\t<li>20190517</li>\n",
       "\t<li>20190518</li>\n",
       "\t<li>20190519</li>\n",
       "\t<li>20190520</li>\n",
       "\t<li>20190521</li>\n",
       "\t<li>20190522</li>\n",
       "\t<li>20190523</li>\n",
       "\t<li>20190524</li>\n",
       "\t<li>20190525</li>\n",
       "\t<li>20190526</li>\n",
       "\t<li>20190527</li>\n",
       "\t<li>20190529</li>\n",
       "\t<li>20190531</li>\n",
       "\t<li>20190601</li>\n",
       "\t<li>20190603</li>\n",
       "\t<li>20190604</li>\n",
       "\t<li>20190605</li>\n",
       "\t<li>20190610</li>\n",
       "\t<li>20190615</li>\n",
       "\t<li>20190617</li>\n",
       "\t<li>20190618</li>\n",
       "\t<li>20190619</li>\n",
       "\t<li>20190624</li>\n",
       "\t<li>20190625</li>\n",
       "\t<li>20190626</li>\n",
       "\t<li>20190627</li>\n",
       "\t<li>20190630</li>\n",
       "\t<li>20190701</li>\n",
       "\t<li>20190702</li>\n",
       "\t<li>20190704</li>\n",
       "\t<li>20190705</li>\n",
       "\t<li>20190714</li>\n",
       "\t<li>20190715</li>\n",
       "\t<li>20190716</li>\n",
       "\t<li>20190718</li>\n",
       "\t<li>20190723</li>\n",
       "\t<li>20190724</li>\n",
       "\t<li>20190725</li>\n",
       "\t<li>20190729</li>\n",
       "\t<li>20190730</li>\n",
       "\t<li>20190731</li>\n",
       "\t<li>20190801</li>\n",
       "\t<li>20190802</li>\n",
       "\t<li>20190803</li>\n",
       "\t<li>20190804</li>\n",
       "\t<li>20190805</li>\n",
       "\t<li>20190806</li>\n",
       "\t<li>20190807</li>\n",
       "\t<li>20190808</li>\n",
       "\t<li>20190809</li>\n",
       "\t<li>20190810</li>\n",
       "\t<li>20190812</li>\n",
       "\t<li>20190813</li>\n",
       "\t<li>20190826</li>\n",
       "\t<li>20190827</li>\n",
       "\t<li>20190828</li>\n",
       "\t<li>20190830</li>\n",
       "\t<li>20190831</li>\n",
       "\t<li>20190901</li>\n",
       "\t<li>20190902</li>\n",
       "\t<li>20190903</li>\n",
       "\t<li>20190904</li>\n",
       "\t<li>20190905</li>\n",
       "\t<li>20190906</li>\n",
       "\t<li>20190907</li>\n",
       "\t<li>20190909</li>\n",
       "\t<li>20190910</li>\n",
       "\t<li>20190911</li>\n",
       "\t<li>20190914</li>\n",
       "\t<li>20190916</li>\n",
       "\t<li>20190917</li>\n",
       "\t<li>20190922</li>\n",
       "\t<li>20190923</li>\n",
       "\t<li>20190924</li>\n",
       "</ol>\n"
      ],
      "text/latex": [
       "\\begin{enumerate*}\n",
       "\\item 20190331\n",
       "\\item 20190401\n",
       "\\item 20190402\n",
       "\\item 20190403\n",
       "\\item 20190404\n",
       "\\item 20190405\n",
       "\\item 20190406\n",
       "\\item 20190407\n",
       "\\item 20190411\n",
       "\\item 20190415\n",
       "\\item 20190416\n",
       "\\item 20190417\n",
       "\\item 20190418\n",
       "\\item 20190419\n",
       "\\item 20190425\n",
       "\\item 20190427\n",
       "\\item 20190428\n",
       "\\item 20190429\n",
       "\\item 20190430\n",
       "\\item 20190501\n",
       "\\item 20190503\n",
       "\\item 20190504\n",
       "\\item 20190505\n",
       "\\item 20190507\n",
       "\\item 20190509\n",
       "\\item 20190511\n",
       "\\item 20190513\n",
       "\\item 20190514\n",
       "\\item 20190515\n",
       "\\item 20190517\n",
       "\\item 20190518\n",
       "\\item 20190519\n",
       "\\item 20190520\n",
       "\\item 20190521\n",
       "\\item 20190522\n",
       "\\item 20190523\n",
       "\\item 20190524\n",
       "\\item 20190525\n",
       "\\item 20190526\n",
       "\\item 20190527\n",
       "\\item 20190529\n",
       "\\item 20190531\n",
       "\\item 20190601\n",
       "\\item 20190603\n",
       "\\item 20190604\n",
       "\\item 20190605\n",
       "\\item 20190610\n",
       "\\item 20190615\n",
       "\\item 20190617\n",
       "\\item 20190618\n",
       "\\item 20190619\n",
       "\\item 20190624\n",
       "\\item 20190625\n",
       "\\item 20190626\n",
       "\\item 20190627\n",
       "\\item 20190630\n",
       "\\item 20190701\n",
       "\\item 20190702\n",
       "\\item 20190704\n",
       "\\item 20190705\n",
       "\\item 20190714\n",
       "\\item 20190715\n",
       "\\item 20190716\n",
       "\\item 20190718\n",
       "\\item 20190723\n",
       "\\item 20190724\n",
       "\\item 20190725\n",
       "\\item 20190729\n",
       "\\item 20190730\n",
       "\\item 20190731\n",
       "\\item 20190801\n",
       "\\item 20190802\n",
       "\\item 20190803\n",
       "\\item 20190804\n",
       "\\item 20190805\n",
       "\\item 20190806\n",
       "\\item 20190807\n",
       "\\item 20190808\n",
       "\\item 20190809\n",
       "\\item 20190810\n",
       "\\item 20190812\n",
       "\\item 20190813\n",
       "\\item 20190826\n",
       "\\item 20190827\n",
       "\\item 20190828\n",
       "\\item 20190830\n",
       "\\item 20190831\n",
       "\\item 20190901\n",
       "\\item 20190902\n",
       "\\item 20190903\n",
       "\\item 20190904\n",
       "\\item 20190905\n",
       "\\item 20190906\n",
       "\\item 20190907\n",
       "\\item 20190909\n",
       "\\item 20190910\n",
       "\\item 20190911\n",
       "\\item 20190914\n",
       "\\item 20190916\n",
       "\\item 20190917\n",
       "\\item 20190922\n",
       "\\item 20190923\n",
       "\\item 20190924\n",
       "\\end{enumerate*}\n"
      ],
      "text/markdown": [
       "1. 20190331\n",
       "2. 20190401\n",
       "3. 20190402\n",
       "4. 20190403\n",
       "5. 20190404\n",
       "6. 20190405\n",
       "7. 20190406\n",
       "8. 20190407\n",
       "9. 20190411\n",
       "10. 20190415\n",
       "11. 20190416\n",
       "12. 20190417\n",
       "13. 20190418\n",
       "14. 20190419\n",
       "15. 20190425\n",
       "16. 20190427\n",
       "17. 20190428\n",
       "18. 20190429\n",
       "19. 20190430\n",
       "20. 20190501\n",
       "21. 20190503\n",
       "22. 20190504\n",
       "23. 20190505\n",
       "24. 20190507\n",
       "25. 20190509\n",
       "26. 20190511\n",
       "27. 20190513\n",
       "28. 20190514\n",
       "29. 20190515\n",
       "30. 20190517\n",
       "31. 20190518\n",
       "32. 20190519\n",
       "33. 20190520\n",
       "34. 20190521\n",
       "35. 20190522\n",
       "36. 20190523\n",
       "37. 20190524\n",
       "38. 20190525\n",
       "39. 20190526\n",
       "40. 20190527\n",
       "41. 20190529\n",
       "42. 20190531\n",
       "43. 20190601\n",
       "44. 20190603\n",
       "45. 20190604\n",
       "46. 20190605\n",
       "47. 20190610\n",
       "48. 20190615\n",
       "49. 20190617\n",
       "50. 20190618\n",
       "51. 20190619\n",
       "52. 20190624\n",
       "53. 20190625\n",
       "54. 20190626\n",
       "55. 20190627\n",
       "56. 20190630\n",
       "57. 20190701\n",
       "58. 20190702\n",
       "59. 20190704\n",
       "60. 20190705\n",
       "61. 20190714\n",
       "62. 20190715\n",
       "63. 20190716\n",
       "64. 20190718\n",
       "65. 20190723\n",
       "66. 20190724\n",
       "67. 20190725\n",
       "68. 20190729\n",
       "69. 20190730\n",
       "70. 20190731\n",
       "71. 20190801\n",
       "72. 20190802\n",
       "73. 20190803\n",
       "74. 20190804\n",
       "75. 20190805\n",
       "76. 20190806\n",
       "77. 20190807\n",
       "78. 20190808\n",
       "79. 20190809\n",
       "80. 20190810\n",
       "81. 20190812\n",
       "82. 20190813\n",
       "83. 20190826\n",
       "84. 20190827\n",
       "85. 20190828\n",
       "86. 20190830\n",
       "87. 20190831\n",
       "88. 20190901\n",
       "89. 20190902\n",
       "90. 20190903\n",
       "91. 20190904\n",
       "92. 20190905\n",
       "93. 20190906\n",
       "94. 20190907\n",
       "95. 20190909\n",
       "96. 20190910\n",
       "97. 20190911\n",
       "98. 20190914\n",
       "99. 20190916\n",
       "100. 20190917\n",
       "101. 20190922\n",
       "102. 20190923\n",
       "103. 20190924\n",
       "\n",
       "\n"
      ],
      "text/plain": [
       "  [1] 20190331 20190401 20190402 20190403 20190404 20190405 20190406 20190407\n",
       "  [9] 20190411 20190415 20190416 20190417 20190418 20190419 20190425 20190427\n",
       " [17] 20190428 20190429 20190430 20190501 20190503 20190504 20190505 20190507\n",
       " [25] 20190509 20190511 20190513 20190514 20190515 20190517 20190518 20190519\n",
       " [33] 20190520 20190521 20190522 20190523 20190524 20190525 20190526 20190527\n",
       " [41] 20190529 20190531 20190601 20190603 20190604 20190605 20190610 20190615\n",
       " [49] 20190617 20190618 20190619 20190624 20190625 20190626 20190627 20190630\n",
       " [57] 20190701 20190702 20190704 20190705 20190714 20190715 20190716 20190718\n",
       " [65] 20190723 20190724 20190725 20190729 20190730 20190731 20190801 20190802\n",
       " [73] 20190803 20190804 20190805 20190806 20190807 20190808 20190809 20190810\n",
       " [81] 20190812 20190813 20190826 20190827 20190828 20190830 20190831 20190901\n",
       " [89] 20190902 20190903 20190904 20190905 20190906 20190907 20190909 20190910\n",
       " [97] 20190911 20190914 20190916 20190917 20190922 20190923 20190924"
      ]
     },
     "metadata": {},
     "output_type": "display_data"
    }
   ],
   "source": [
    "sort(unique(sfsnt$FSD))"
   ]
  },
  {
   "cell_type": "markdown",
   "metadata": {},
   "source": [
    "- 시작일자와 종료일자가 있으며, 이는 이력 데이터와 유사하다고 보여진다.\n",
    "- 단, 2019년 3월 ~ 9월까지 운항 정보이기 때문에 운항실적 데이터로 학습한 모델을 검증하는 용도로 사용할 수 있다.\n",
    "- 따라서 앞선 데이터의 보충자료라고 판단된다."
   ]
  },
  {
   "cell_type": "markdown",
   "metadata": {},
   "source": [
    "### 3) 운항지연 데이터"
   ]
  },
  {
   "cell_type": "markdown",
   "metadata": {},
   "source": [
    "- 운항실적 데이터와 형태는 유사하지만 데이터 정의서에 명시되어 있듯이, 운항일자는 2019년 9월 16 ~ 30일이며, 지연여부(DLY) 와 지연율(DLY_RATE) 변수가 NA 값으로 채워진 것으로 보아 해당데이터는 실제 예측해야 되는 테스트 셋으로 보여진다."
   ]
  },
  {
   "cell_type": "code",
   "execution_count": 17,
   "metadata": {
    "scrolled": true
   },
   "outputs": [
    {
     "name": "stdout",
     "output_type": "stream",
     "text": [
      "'data.frame':\t16076 obs. of  12 variables:\n",
      " $ SDT_YY  : int  2019 2019 2019 2019 2019 2019 2019 2019 2019 2019 ...\n",
      " $ SDT_MM  : int  9 9 9 9 9 9 9 9 9 9 ...\n",
      " $ SDT_DD  : int  16 16 16 16 16 16 16 16 16 16 ...\n",
      " $ SDT_DY  : chr  \"월\" \"월\" \"월\" \"월\" ...\n",
      " $ ARP     : chr  \"ARP1\" \"ARP3\" \"`\" \"ARP3\" ...\n",
      " $ ODP     : chr  \"ARP3\" \"ARP1\" \"ARP3\" \"ARP1\" ...\n",
      " $ FLO     : chr  \"L\" \"L\" \"L\" \"L\" ...\n",
      " $ FLT     : chr  \"L1702\" \"L1702\" \"L1720\" \"L1720\" ...\n",
      " $ AOD     : chr  \"A\" \"D\" \"A\" \"D\" ...\n",
      " $ STT     : chr  \"9:05\" \"7:55\" \"14:40\" \"13:30\" ...\n",
      " $ DLY     : logi  NA NA NA NA NA NA ...\n",
      " $ DLY_RATE: logi  NA NA NA NA NA NA ...\n"
     ]
    }
   ],
   "source": [
    "str(afsnt_dly)"
   ]
  },
  {
   "cell_type": "code",
   "execution_count": 18,
   "metadata": {},
   "outputs": [
    {
     "data": {
      "text/html": [
       "<ol class=list-inline>\n",
       "\t<li>'2019916'</li>\n",
       "\t<li>'2019917'</li>\n",
       "\t<li>'2019918'</li>\n",
       "\t<li>'2019919'</li>\n",
       "\t<li>'2019920'</li>\n",
       "\t<li>'2019921'</li>\n",
       "\t<li>'2019922'</li>\n",
       "\t<li>'2019923'</li>\n",
       "\t<li>'2019924'</li>\n",
       "\t<li>'2019925'</li>\n",
       "\t<li>'2019926'</li>\n",
       "\t<li>'2019927'</li>\n",
       "\t<li>'2019928'</li>\n",
       "\t<li>'2019929'</li>\n",
       "\t<li>'2019930'</li>\n",
       "</ol>\n"
      ],
      "text/latex": [
       "\\begin{enumerate*}\n",
       "\\item '2019916'\n",
       "\\item '2019917'\n",
       "\\item '2019918'\n",
       "\\item '2019919'\n",
       "\\item '2019920'\n",
       "\\item '2019921'\n",
       "\\item '2019922'\n",
       "\\item '2019923'\n",
       "\\item '2019924'\n",
       "\\item '2019925'\n",
       "\\item '2019926'\n",
       "\\item '2019927'\n",
       "\\item '2019928'\n",
       "\\item '2019929'\n",
       "\\item '2019930'\n",
       "\\end{enumerate*}\n"
      ],
      "text/markdown": [
       "1. '2019916'\n",
       "2. '2019917'\n",
       "3. '2019918'\n",
       "4. '2019919'\n",
       "5. '2019920'\n",
       "6. '2019921'\n",
       "7. '2019922'\n",
       "8. '2019923'\n",
       "9. '2019924'\n",
       "10. '2019925'\n",
       "11. '2019926'\n",
       "12. '2019927'\n",
       "13. '2019928'\n",
       "14. '2019929'\n",
       "15. '2019930'\n",
       "\n",
       "\n"
      ],
      "text/plain": [
       " [1] \"2019916\" \"2019917\" \"2019918\" \"2019919\" \"2019920\" \"2019921\" \"2019922\"\n",
       " [8] \"2019923\" \"2019924\" \"2019925\" \"2019926\" \"2019927\" \"2019928\" \"2019929\"\n",
       "[15] \"2019930\""
      ]
     },
     "metadata": {},
     "output_type": "display_data"
    }
   ],
   "source": [
    "unique(paste0(afsnt_dly$SDT_YY, afsnt_dly$SDT_MM, afsnt_dly$SDT_DD))"
   ]
  },
  {
   "cell_type": "markdown",
   "metadata": {},
   "source": [
    "**현재까지 정리된 내용**\n",
    "- 크게 3가지 데이터 셋을 쓴다.\n",
    "- 지연 여부와 그에 대한 확률을 고르는 문제이나 엄연히 분류에 대한 문제이다.(이진분류문제)\n",
    "- afsnt > sfsnt > afsnt_dly 순으로 데이터를 접근하는 것이 좋다."
   ]
  },
  {
   "cell_type": "markdown",
   "metadata": {},
   "source": [
    "**TODO**\n",
    "* 홈페이지에 공지된 내용 중 항공운항기록데이터 뿐만 아니라 항공기상데이터도 같이 사용하도록 공지되어있다. 따라서 학습 시 각 날짜별로 항공기상데이터도 같이 사용할 수 있도록 데이터 전처리를 한다.\n",
    "* 날짜와 관련된 변수는 sfsnt 에 나온 것처럼 더미 변수(값의 여부를 위해 이진값으로 표시한 변수)를 생성해 주는 것이 좋다. \n",
    "* 분류 문제이기 때문에 분류 알고리즘을 사용하며 모델은 의사결정나무(CART), 렌덤 포레스트를 통해 사용할 만한 특징(Feature) 들을 찾는다.\n",
    "* 앙상블, 신경망 등 Feature Selection에 사용된 기법외의 다른 기법들로 최종적인 지연 여부와 확률을 산출한다.\n",
    "* 진행 시 사용한 모델이 적합한 지 검증도 같이 하며, 10-Fold 기법으로 검증한다. \n",
    "* 가능하다면 Kaggle 포커룰에 사용한 모델도 사용해볼 것"
   ]
  },
  {
   "cell_type": "markdown",
   "metadata": {},
   "source": [
    "## 2. 데이터 전처리"
   ]
  },
  {
   "cell_type": "markdown",
   "metadata": {},
   "source": [
    "**참고자료**\n",
    "- R jupyter notebook 에 커널 추가 :  https://3months.tistory.com/332"
   ]
  }
 ],
 "metadata": {
  "kernelspec": {
   "display_name": "R",
   "language": "R",
   "name": "ir"
  },
  "language_info": {
   "codemirror_mode": "r",
   "file_extension": ".r",
   "mimetype": "text/x-r-source",
   "name": "R",
   "pygments_lexer": "r",
   "version": "3.6.0"
  }
 },
 "nbformat": 4,
 "nbformat_minor": 2
}
